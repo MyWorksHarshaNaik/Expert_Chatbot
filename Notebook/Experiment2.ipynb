{
 "cells": [
  {
   "cell_type": "code",
   "execution_count": 2,
   "metadata": {},
   "outputs": [],
   "source": [
    "import json\n",
    "import pandas as pd\n",
    "import numpy as np\n",
    "from pathlib import Path\n",
    "import google.generativeai as genai\n",
    "from langchain.text_splitter import RecursiveCharacterTextSplitter\n",
    "from langchain.embeddings import HuggingFaceEmbeddings\n",
    "from langchain.vectorstores import FAISS\n",
    "from langchain.memory import ConversationBufferMemory\n",
    "from langchain.chains import ConversationalRetrievalChain\n",
    "from langchain.prompts import PromptTemplate\n",
    "from langchain_google_genai import ChatGoogleGenerativeAI\n",
    "import os\n",
    "import matplotlib.pyplot as plt\n",
    "import networkx as nx\n",
    "from sklearn.feature_extraction.text import CountVectorizer\n",
    "import warnings\n",
    "warnings.filterwarnings('ignore')"
   ]
  },
  {
   "cell_type": "code",
   "execution_count": null,
   "metadata": {},
   "outputs": [],
   "source": [
    "os.environ['GOOGLE_API_KEY'] = 'API_KEY'\n",
    "genai.configure(api_key=os.environ['GOOGLE_API_KEY'])\n",
    "model = ChatGoogleGenerativeAI(model=\"gemini-1.5-flash\", temperature=0.3,  convert_system_message_to_human=True)"
   ]
  },
  {
   "cell_type": "code",
   "execution_count": 4,
   "metadata": {},
   "outputs": [
    {
     "data": {
      "text/plain": [
       "'\\n# Cell 3: Load and preprocess arXiv data\\ndef load_arxiv_data(file_path, field=\"cs\"):\\n    with open(file_path, \\'r\\') as f:\\n        data = [json.loads(line) for line in f]\\n    \\n    df = pd.DataFrame(data)\\n    # Filter for specified field\\n    df = df[df[\\'categories\\'].str.contains(field, case=False)]\\n    \\n    # Combine title and abstract for better context\\n    df[\\'content\\'] = df[\\'title\\'] + \\'\\n\\n\\' + df[\\'abstract\\']\\n    return df\\n\\n# Load data\\narxiv_data = load_arxiv_data(\"../Dataset/arxiv-metadata-oai-snapshot.json\")\\nprint(f\"Loaded {len(arxiv_data)} papers\")\\n\\n'"
      ]
     },
     "execution_count": 4,
     "metadata": {},
     "output_type": "execute_result"
    }
   ],
   "source": [
    "\"\"\"\n",
    "# Cell 3: Load and preprocess arXiv data\n",
    "def load_arxiv_data(file_path, field=\"cs\"):\n",
    "    with open(file_path, 'r') as f:\n",
    "        data = [json.loads(line) for line in f]\n",
    "    \n",
    "    df = pd.DataFrame(data)\n",
    "    # Filter for specified field\n",
    "    df = df[df['categories'].str.contains(field, case=False)]\n",
    "    \n",
    "    # Combine title and abstract for better context\n",
    "    df['content'] = df['title'] + '\\n\\n' + df['abstract']\n",
    "    return df\n",
    "\n",
    "# Load data\n",
    "arxiv_data = load_arxiv_data(\"../Dataset/arxiv-metadata-oai-snapshot.json\")\n",
    "print(f\"Loaded {len(arxiv_data)} papers\")\n",
    "\n",
    "\"\"\""
   ]
  },
  {
   "cell_type": "code",
   "execution_count": 5,
   "metadata": {},
   "outputs": [],
   "source": [
    "VECTOR_DB_PATH = \"../faiss_db\"\n",
    "MODEL_NAME = \"sentence-transformers/all-MiniLM-L6-v2\"  \n",
    "embeddings = HuggingFaceEmbeddings(model_name=MODEL_NAME)"
   ]
  },
  {
   "cell_type": "code",
   "execution_count": 6,
   "metadata": {},
   "outputs": [],
   "source": [
    "# ✅ Load FAISS Vector Database\n",
    "def load_vector_db():\n",
    "    print(\"Loading FAISS vector database...\")\n",
    "    return FAISS.load_local(VECTOR_DB_PATH, embeddings, allow_dangerous_deserialization=True)"
   ]
  },
  {
   "cell_type": "code",
   "execution_count": 7,
   "metadata": {},
   "outputs": [
    {
     "name": "stdout",
     "output_type": "stream",
     "text": [
      "Loading FAISS vector database...\n"
     ]
    }
   ],
   "source": [
    "vector_store = load_vector_db()"
   ]
  },
  {
   "cell_type": "code",
   "execution_count": 8,
   "metadata": {},
   "outputs": [],
   "source": [
    "#  Setup conversation memory and QA chain\n",
    "memory = ConversationBufferMemory(\n",
    "    memory_key=\"chat_history\",\n",
    "    return_messages=True,\n",
    "    output_key=\"answer\" \n",
    ")\n",
    "\n",
    "qa_chain = ConversationalRetrievalChain.from_llm(\n",
    "    llm=model,\n",
    "    retriever=vector_store.as_retriever(),\n",
    "    memory=memory,\n",
    "    return_source_documents=True,\n",
    "    verbose=True,  # Add this for debugging\n",
    "    chain_type=\"stuff\"  # Specify chain type\n",
    ")"
   ]
  },
  {
   "cell_type": "code",
   "execution_count": 9,
   "metadata": {},
   "outputs": [],
   "source": [
    "# Cell 8: Function for paper summarization (Outcome 1)\n",
    "def summarize_paper(paper_title: str):\n",
    "    \"\"\"Generate summary for a specific paper\"\"\"\n",
    "    # Find the paper\n",
    "    results = vector_store.similarity_search(paper_title, k=1)\n",
    "    if results:\n",
    "        paper_content = results[0].page_content\n",
    "        \n",
    "        # Create summary prompt\n",
    "        summary_prompt = f\"\"\"\n",
    "        Please provide a comprehensive summary of this research paper:\n",
    "        {paper_content}\n",
    "        \n",
    "        Include:\n",
    "        1. Main objectives\n",
    "        2. Key findings\n",
    "        3. Methodology\n",
    "        4. Conclusions\n",
    "        \"\"\"\n",
    "        \n",
    "        # Generate summary using Gemini\n",
    "        summary = model.invoke(summary_prompt)\n",
    "        return summary\n",
    "    return \"Paper not found\""
   ]
  },
  {
   "cell_type": "code",
   "execution_count": 10,
   "metadata": {},
   "outputs": [],
   "source": [
    "# Cell 9: Chat function (Outcomes 1, 2, and 3)\n",
    "def chat_with_expert(query: str):\n",
    "    \"\"\"\n",
    "    Chat with the expert system - handles:\n",
    "    - Advanced topic discussion (Outcome 1)\n",
    "    - Complex concept explanation (Outcome 2)\n",
    "    - Follow-up questions (Outcome 3)\n",
    "    \"\"\"\n",
    "    result = qa_chain({\"question\": query})\n",
    "    \n",
    "    response = {\n",
    "        \"answer\": result[\"answer\"],\n",
    "        \"source_papers\": [doc.page_content.split('\\n\\n')[0] for doc in result[\"source_documents\"]]\n",
    "    }\n",
    "    \n",
    "    print(\"Answer:\", response[\"answer\"])\n",
    "    print(\"\\nRelevant Papers:\")\n",
    "    for i, paper in enumerate(response[\"source_papers\"], 1):\n",
    "        print(f\"{i}. {paper}\")\n",
    "    \n",
    "    return response"
   ]
  },
  {
   "cell_type": "code",
   "execution_count": 11,
   "metadata": {},
   "outputs": [
    {
     "name": "stdout",
     "output_type": "stream",
     "text": [
      "Testing advanced topic discussion...\n",
      "\n",
      "\n",
      "\u001b[1m> Entering new StuffDocumentsChain chain...\u001b[0m\n",
      "\n",
      "\n",
      "\u001b[1m> Entering new LLMChain chain...\u001b[0m\n",
      "Prompt after formatting:\n",
      "\u001b[32;1m\u001b[1;3mSystem: Use the following pieces of context to answer the user's question. \n",
      "If you don't know the answer, just say that you don't know, don't try to make up an answer.\n",
      "----------------\n",
      "compared the existing transformers with the transformers obtained using AMURTH,\n",
      "we discovered that four of the existing transformers were unsound, which\n",
      "demonstrates the risk of using manually created transformers.\n",
      "Categories: cs.PL\n",
      "ID: 2105.00493\n",
      "\n",
      "byte-level Transformer models based on the T5 architecture, as well as all code\n",
      "and data used in our experiments.\n",
      "Categories: cs.CL\n",
      "ID: 2105.13626\n",
      "\n",
      "Title: Are Pre-trained Convolutions Better than Pre-trained Transformers?\n",
      "Authors: Yi Tay, Mostafa Dehghani, Jai Gupta, Dara Bahri, Vamsi Aribandi, Zhen\n",
      "  Qin, Donald Metzler\n",
      "Abstract: In the era of pre-trained language models, Transformers are the de facto\n",
      "choice of model architectures. While recent research has shown promise in\n",
      "entirely convolutional, or CNN, architectures, they have not been explored\n",
      "using the pre-train-fine-tune paradigm. In the context of language models, are\n",
      "convolutional models competitive to Transformers when pre-trained? This paper\n",
      "investigates this research question and presents several interesting findings.\n",
      "Across an extensive set of experiments on 8 datasets/tasks, we find that\n",
      "CNN-based pre-trained models are competitive and outperform their Transformer\n",
      "counterpart in certain scenarios, albeit with caveats. Overall, the findings\n",
      "outlined in this paper suggest that conflating pre-training and architectural\n",
      "advances is misguided and that both advances should be considered\n",
      "independently. We believe our research paves the way for a healthy amount of\n",
      "optimism in alternative architectures.\n",
      "Categories: cs.CL cs.LG\n",
      "ID: 2105.03322\n",
      "\n",
      "architectures we developed, and the studies we conducted, to develop our\n",
      "best-performing, transformer-based model (F1 = 79.3%). We also discuss several\n",
      "technical challenges that need to be addressed when working with real-world\n",
      "speech and language data from noisy K-12 classrooms.\n",
      "Categories: cs.CY cs.CL\n",
      "ID: 2105.07949\n",
      "Human: What are the latest developments in transformer models?\u001b[0m\n",
      "\n",
      "\u001b[1m> Finished chain.\u001b[0m\n",
      "\n",
      "\u001b[1m> Finished chain.\u001b[0m\n",
      "Answer: Based on the provided abstracts, there are several recent developments in transformer models:\n",
      "\n",
      "* **Improved Transformer Creation Methods:**  One study found that manually created transformers are risky, as four out of an unspecified number were found to be \"unsound\" when compared to transformers created using a method called AMURTH (2105.00493).  The specifics of AMURTH are not detailed.\n",
      "\n",
      "* **Byte-Level Transformer Models:**  Research has explored byte-level transformer models based on the T5 architecture (2105.13626).\n",
      "\n",
      "* **Comparison of Pre-trained Convolutions and Transformers:** A study compared pre-trained convolutional neural networks (CNNs) with pre-trained transformers, finding that CNNs were competitive and even outperformed transformers in some scenarios (2105.03322).  This suggests that architectural advances should be considered independently from pre-training techniques.\n",
      "\n",
      "* **Transformer Models for Noisy Speech Data:**  Work has been done to develop transformer-based models for noisy speech and language data from K-12 classrooms, achieving an F1 score of 79.3% (2105.07949).  Challenges in working with this type of data were also discussed.\n",
      "\n",
      "Relevant Papers:\n",
      "1. compared the existing transformers with the transformers obtained using AMURTH,\n",
      "we discovered that four of the existing transformers were unsound, which\n",
      "demonstrates the risk of using manually created transformers.\n",
      "Categories: cs.PL\n",
      "ID: 2105.00493\n",
      "2. byte-level Transformer models based on the T5 architecture, as well as all code\n",
      "and data used in our experiments.\n",
      "Categories: cs.CL\n",
      "ID: 2105.13626\n",
      "3. Title: Are Pre-trained Convolutions Better than Pre-trained Transformers?\n",
      "Authors: Yi Tay, Mostafa Dehghani, Jai Gupta, Dara Bahri, Vamsi Aribandi, Zhen\n",
      "  Qin, Donald Metzler\n",
      "Abstract: In the era of pre-trained language models, Transformers are the de facto\n",
      "choice of model architectures. While recent research has shown promise in\n",
      "entirely convolutional, or CNN, architectures, they have not been explored\n",
      "using the pre-train-fine-tune paradigm. In the context of language models, are\n",
      "convolutional models competitive to Transformers when pre-trained? This paper\n",
      "investigates this research question and presents several interesting findings.\n",
      "Across an extensive set of experiments on 8 datasets/tasks, we find that\n",
      "CNN-based pre-trained models are competitive and outperform their Transformer\n",
      "counterpart in certain scenarios, albeit with caveats. Overall, the findings\n",
      "outlined in this paper suggest that conflating pre-training and architectural\n",
      "advances is misguided and that both advances should be considered\n",
      "independently. We believe our research paves the way for a healthy amount of\n",
      "optimism in alternative architectures.\n",
      "Categories: cs.CL cs.LG\n",
      "ID: 2105.03322\n",
      "4. architectures we developed, and the studies we conducted, to develop our\n",
      "best-performing, transformer-based model (F1 = 79.3%). We also discuss several\n",
      "technical challenges that need to be addressed when working with real-world\n",
      "speech and language data from noisy K-12 classrooms.\n",
      "Categories: cs.CY cs.CL\n",
      "ID: 2105.07949\n"
     ]
    },
    {
     "data": {
      "text/plain": [
       "{'answer': 'Based on the provided abstracts, there are several recent developments in transformer models:\\n\\n* **Improved Transformer Creation Methods:**  One study found that manually created transformers are risky, as four out of an unspecified number were found to be \"unsound\" when compared to transformers created using a method called AMURTH (2105.00493).  The specifics of AMURTH are not detailed.\\n\\n* **Byte-Level Transformer Models:**  Research has explored byte-level transformer models based on the T5 architecture (2105.13626).\\n\\n* **Comparison of Pre-trained Convolutions and Transformers:** A study compared pre-trained convolutional neural networks (CNNs) with pre-trained transformers, finding that CNNs were competitive and even outperformed transformers in some scenarios (2105.03322).  This suggests that architectural advances should be considered independently from pre-training techniques.\\n\\n* **Transformer Models for Noisy Speech Data:**  Work has been done to develop transformer-based models for noisy speech and language data from K-12 classrooms, achieving an F1 score of 79.3% (2105.07949).  Challenges in working with this type of data were also discussed.',\n",
       " 'source_papers': ['compared the existing transformers with the transformers obtained using AMURTH,\\nwe discovered that four of the existing transformers were unsound, which\\ndemonstrates the risk of using manually created transformers.\\nCategories: cs.PL\\nID: 2105.00493',\n",
       "  'byte-level Transformer models based on the T5 architecture, as well as all code\\nand data used in our experiments.\\nCategories: cs.CL\\nID: 2105.13626',\n",
       "  'Title: Are Pre-trained Convolutions Better than Pre-trained Transformers?\\nAuthors: Yi Tay, Mostafa Dehghani, Jai Gupta, Dara Bahri, Vamsi Aribandi, Zhen\\n  Qin, Donald Metzler\\nAbstract: In the era of pre-trained language models, Transformers are the de facto\\nchoice of model architectures. While recent research has shown promise in\\nentirely convolutional, or CNN, architectures, they have not been explored\\nusing the pre-train-fine-tune paradigm. In the context of language models, are\\nconvolutional models competitive to Transformers when pre-trained? This paper\\ninvestigates this research question and presents several interesting findings.\\nAcross an extensive set of experiments on 8 datasets/tasks, we find that\\nCNN-based pre-trained models are competitive and outperform their Transformer\\ncounterpart in certain scenarios, albeit with caveats. Overall, the findings\\noutlined in this paper suggest that conflating pre-training and architectural\\nadvances is misguided and that both advances should be considered\\nindependently. We believe our research paves the way for a healthy amount of\\noptimism in alternative architectures.\\nCategories: cs.CL cs.LG\\nID: 2105.03322',\n",
       "  'architectures we developed, and the studies we conducted, to develop our\\nbest-performing, transformer-based model (F1 = 79.3%). We also discuss several\\ntechnical challenges that need to be addressed when working with real-world\\nspeech and language data from noisy K-12 classrooms.\\nCategories: cs.CY cs.CL\\nID: 2105.07949']}"
      ]
     },
     "execution_count": 11,
     "metadata": {},
     "output_type": "execute_result"
    }
   ],
   "source": [
    "print(\"Testing advanced topic discussion...\")\n",
    "chat_with_expert(\"What are the latest developments in transformer models?\")"
   ]
  },
  {
   "cell_type": "code",
   "execution_count": 12,
   "metadata": {},
   "outputs": [
    {
     "name": "stdout",
     "output_type": "stream",
     "text": [
      "\n",
      "Testing complex concept explanation...\n",
      "\n",
      "\n",
      "\u001b[1m> Entering new LLMChain chain...\u001b[0m\n",
      "Prompt after formatting:\n",
      "\u001b[32;1m\u001b[1;3mGiven the following conversation and a follow up question, rephrase the follow up question to be a standalone question, in its original language.\n",
      "\n",
      "Chat History:\n",
      "\n",
      "Human: What are the latest developments in transformer models?\n",
      "Assistant: Based on the provided abstracts, there are several recent developments in transformer models:\n",
      "\n",
      "* **Improved Transformer Creation Methods:**  One study found that manually created transformers are risky, as four out of an unspecified number were found to be \"unsound\" when compared to transformers created using a method called AMURTH (2105.00493).  The specifics of AMURTH are not detailed.\n",
      "\n",
      "* **Byte-Level Transformer Models:**  Research has explored byte-level transformer models based on the T5 architecture (2105.13626).\n",
      "\n",
      "* **Comparison of Pre-trained Convolutions and Transformers:** A study compared pre-trained convolutional neural networks (CNNs) with pre-trained transformers, finding that CNNs were competitive and even outperformed transformers in some scenarios (2105.03322).  This suggests that architectural advances should be considered independently from pre-training techniques.\n",
      "\n",
      "* **Transformer Models for Noisy Speech Data:**  Work has been done to develop transformer-based models for noisy speech and language data from K-12 classrooms, achieving an F1 score of 79.3% (2105.07949).  Challenges in working with this type of data were also discussed.\n",
      "Follow Up Input: Explain the concept of attention mechanism in deep learning\n",
      "Standalone question:\u001b[0m\n",
      "\n",
      "\u001b[1m> Finished chain.\u001b[0m\n",
      "\n",
      "\n",
      "\u001b[1m> Entering new StuffDocumentsChain chain...\u001b[0m\n",
      "\n",
      "\n",
      "\u001b[1m> Entering new LLMChain chain...\u001b[0m\n",
      "Prompt after formatting:\n",
      "\u001b[32;1m\u001b[1;3mSystem: Use the following pieces of context to answer the user's question. \n",
      "If you don't know the answer, just say that you don't know, don't try to make up an answer.\n",
      "----------------\n",
      "hierarchical attention mechanism to predict the answer. We conduct extensive\n",
      "experiments on a large scale VideoQA dataset, and the experimental results\n",
      "demonstrate that our RHA outperforms the state-of-the-art methods.\n",
      "Categories: cs.CV cs.AI\n",
      "ID: 2105.0616\n",
      "\n",
      "Title: Effective Attention Sheds Light On Interpretability\n",
      "Authors: Kaiser Sun and Ana Marasovi\\'c\n",
      "Abstract: An attention matrix of a transformer self-attention sublayer can provably be\n",
      "decomposed into two components and only one of them (effective attention)\n",
      "contributes to the model output. This leads us to ask whether visualizing\n",
      "effective attention gives different conclusions than interpretation of standard\n",
      "attention. Using a subset of the GLUE tasks and BERT, we carry out an analysis\n",
      "to compare the two attention matrices, and show that their interpretations\n",
      "differ. Effective attention is less associated with the features related to the\n",
      "language modeling pretraining such as the separator token, and it has more\n",
      "potential to illustrate linguistic features captured by the model for solving\n",
      "the end-task. Given the found differences, we recommend using effective\n",
      "attention for studying a transformer's behavior since it is more pertinent to\n",
      "the model output by design.\n",
      "Categories: cs.CL\n",
      "ID: 2105.08855\n",
      "\n",
      "Title: KDExplainer: A Task-oriented Attention Model for Explaining Knowledge\n",
      "  Distillation\n",
      "Authors: Mengqi Xue, Jie Song, Xinchao Wang, Ying Chen, Xingen Wang, Mingli\n",
      "  Song\n",
      "Abstract: Knowledge distillation (KD) has recently emerged as an efficacious scheme for\n",
      "learning compact deep neural networks (DNNs). Despite the promising results\n",
      "achieved, the rationale that interprets the behavior of KD has yet remained\n",
      "largely understudied. In this paper, we introduce a novel task-oriented\n",
      "attention model, termed as KDExplainer, to shed light on the working mechanism\n",
      "underlying the vanilla KD. At the heart of KDExplainer is a Hierarchical\n",
      "Mixture of Experts (HME), in which a multi-class classification is reformulated\n",
      "as a multi-task binary one. Through distilling knowledge from a free-form\n",
      "pre-trained DNN to KDExplainer, we observe that KD implicitly modulates the\n",
      "knowledge conflicts between different subtasks, and in reality has much more to\n",
      "offer than label smoothing. Based on such findings, we further introduce a\n",
      "portable tool, dubbed as virtual attention module (VAM), that can be seamlessly\n",
      "integrated with various DNNs to enhance their performance under KD.\n",
      "Experimental results demonstrate that with a negligible additional cost,\n",
      "student models equipped with VAM consistently outperform their non-VAM\n",
      "counterparts across different benchmarks. Furthermore, when combined with other\n",
      "KD methods, VAM remains competent in promoting results, even though it is only\n",
      "\n",
      "Title: Beyond Self-attention: External Attention using Two Linear Layers for\n",
      "  Visual Tasks\n",
      "Authors: Meng-Hao Guo, Zheng-Ning Liu, Tai-Jiang Mu, Shi-Min Hu\n",
      "Abstract: Attention mechanisms, especially self-attention, have played an increasingly\n",
      "important role in deep feature representation for visual tasks. Self-attention\n",
      "updates the feature at each position by computing a weighted sum of features\n",
      "using pair-wise affinities across all positions to capture the long-range\n",
      "dependency within a single sample. However, self-attention has quadratic\n",
      "complexity and ignores potential correlation between different samples. This\n",
      "paper proposes a novel attention mechanism which we call external attention,\n",
      "based on two external, small, learnable, shared memories, which can be\n",
      "implemented easily by simply using two cascaded linear layers and two\n",
      "normalization layers; it conveniently replaces self-attention in existing\n",
      "popular architectures. External attention has linear complexity and implicitly\n",
      "considers the correlations between all data samples. We further incorporate the\n",
      "multi-head mechanism into external attention to provide an all-MLP\n",
      "architecture, external attention MLP (EAMLP), for image classification.\n",
      "Extensive experiments on image classification, object detection, semantic\n",
      "segmentation, instance segmentation, image generation, and point cloud analysis\n",
      "reveal that our method provides results comparable or superior to the\n",
      "Human: Explain the concept of the attention mechanism in deep learning.\u001b[0m\n",
      "\n",
      "\u001b[1m> Finished chain.\u001b[0m\n",
      "\n",
      "\u001b[1m> Finished chain.\u001b[0m\n",
      "Answer: Based on the provided text, attention mechanisms in deep learning are used to weigh the importance of different parts of the input data when generating an output.  Several types are mentioned:\n",
      "\n",
      "* **Self-attention:**  This mechanism weighs the importance of different parts *within a single input sample*.  It captures long-range dependencies but has quadratic complexity.\n",
      "\n",
      "* **External attention:** This mechanism uses shared, learnable memories (implemented with linear layers) to weigh the importance of different parts of the input, implicitly considering correlations *between different samples*. It has linear complexity.\n",
      "\n",
      "* **Hierarchical attention:** This mechanism is used to process hierarchical data, such as in video question answering.\n",
      "\n",
      "The papers also discuss how attention mechanisms can be used for interpretability (analyzing *effective attention* to understand model behavior) and knowledge distillation (using attention to understand how knowledge is transferred between models).\n",
      "\n",
      "Relevant Papers:\n",
      "1. hierarchical attention mechanism to predict the answer. We conduct extensive\n",
      "experiments on a large scale VideoQA dataset, and the experimental results\n",
      "demonstrate that our RHA outperforms the state-of-the-art methods.\n",
      "Categories: cs.CV cs.AI\n",
      "ID: 2105.0616\n",
      "2. Title: Effective Attention Sheds Light On Interpretability\n",
      "Authors: Kaiser Sun and Ana Marasovi\\'c\n",
      "Abstract: An attention matrix of a transformer self-attention sublayer can provably be\n",
      "decomposed into two components and only one of them (effective attention)\n",
      "contributes to the model output. This leads us to ask whether visualizing\n",
      "effective attention gives different conclusions than interpretation of standard\n",
      "attention. Using a subset of the GLUE tasks and BERT, we carry out an analysis\n",
      "to compare the two attention matrices, and show that their interpretations\n",
      "differ. Effective attention is less associated with the features related to the\n",
      "language modeling pretraining such as the separator token, and it has more\n",
      "potential to illustrate linguistic features captured by the model for solving\n",
      "the end-task. Given the found differences, we recommend using effective\n",
      "attention for studying a transformer's behavior since it is more pertinent to\n",
      "the model output by design.\n",
      "Categories: cs.CL\n",
      "ID: 2105.08855\n",
      "3. Title: KDExplainer: A Task-oriented Attention Model for Explaining Knowledge\n",
      "  Distillation\n",
      "Authors: Mengqi Xue, Jie Song, Xinchao Wang, Ying Chen, Xingen Wang, Mingli\n",
      "  Song\n",
      "Abstract: Knowledge distillation (KD) has recently emerged as an efficacious scheme for\n",
      "learning compact deep neural networks (DNNs). Despite the promising results\n",
      "achieved, the rationale that interprets the behavior of KD has yet remained\n",
      "largely understudied. In this paper, we introduce a novel task-oriented\n",
      "attention model, termed as KDExplainer, to shed light on the working mechanism\n",
      "underlying the vanilla KD. At the heart of KDExplainer is a Hierarchical\n",
      "Mixture of Experts (HME), in which a multi-class classification is reformulated\n",
      "as a multi-task binary one. Through distilling knowledge from a free-form\n",
      "pre-trained DNN to KDExplainer, we observe that KD implicitly modulates the\n",
      "knowledge conflicts between different subtasks, and in reality has much more to\n",
      "offer than label smoothing. Based on such findings, we further introduce a\n",
      "portable tool, dubbed as virtual attention module (VAM), that can be seamlessly\n",
      "integrated with various DNNs to enhance their performance under KD.\n",
      "Experimental results demonstrate that with a negligible additional cost,\n",
      "student models equipped with VAM consistently outperform their non-VAM\n",
      "counterparts across different benchmarks. Furthermore, when combined with other\n",
      "KD methods, VAM remains competent in promoting results, even though it is only\n",
      "4. Title: Beyond Self-attention: External Attention using Two Linear Layers for\n",
      "  Visual Tasks\n",
      "Authors: Meng-Hao Guo, Zheng-Ning Liu, Tai-Jiang Mu, Shi-Min Hu\n",
      "Abstract: Attention mechanisms, especially self-attention, have played an increasingly\n",
      "important role in deep feature representation for visual tasks. Self-attention\n",
      "updates the feature at each position by computing a weighted sum of features\n",
      "using pair-wise affinities across all positions to capture the long-range\n",
      "dependency within a single sample. However, self-attention has quadratic\n",
      "complexity and ignores potential correlation between different samples. This\n",
      "paper proposes a novel attention mechanism which we call external attention,\n",
      "based on two external, small, learnable, shared memories, which can be\n",
      "implemented easily by simply using two cascaded linear layers and two\n",
      "normalization layers; it conveniently replaces self-attention in existing\n",
      "popular architectures. External attention has linear complexity and implicitly\n",
      "considers the correlations between all data samples. We further incorporate the\n",
      "multi-head mechanism into external attention to provide an all-MLP\n",
      "architecture, external attention MLP (EAMLP), for image classification.\n",
      "Extensive experiments on image classification, object detection, semantic\n",
      "segmentation, instance segmentation, image generation, and point cloud analysis\n",
      "reveal that our method provides results comparable or superior to the\n"
     ]
    },
    {
     "data": {
      "text/plain": [
       "{'answer': 'Based on the provided text, attention mechanisms in deep learning are used to weigh the importance of different parts of the input data when generating an output.  Several types are mentioned:\\n\\n* **Self-attention:**  This mechanism weighs the importance of different parts *within a single input sample*.  It captures long-range dependencies but has quadratic complexity.\\n\\n* **External attention:** This mechanism uses shared, learnable memories (implemented with linear layers) to weigh the importance of different parts of the input, implicitly considering correlations *between different samples*. It has linear complexity.\\n\\n* **Hierarchical attention:** This mechanism is used to process hierarchical data, such as in video question answering.\\n\\nThe papers also discuss how attention mechanisms can be used for interpretability (analyzing *effective attention* to understand model behavior) and knowledge distillation (using attention to understand how knowledge is transferred between models).',\n",
       " 'source_papers': ['hierarchical attention mechanism to predict the answer. We conduct extensive\\nexperiments on a large scale VideoQA dataset, and the experimental results\\ndemonstrate that our RHA outperforms the state-of-the-art methods.\\nCategories: cs.CV cs.AI\\nID: 2105.0616',\n",
       "  \"Title: Effective Attention Sheds Light On Interpretability\\nAuthors: Kaiser Sun and Ana Marasovi\\\\'c\\nAbstract: An attention matrix of a transformer self-attention sublayer can provably be\\ndecomposed into two components and only one of them (effective attention)\\ncontributes to the model output. This leads us to ask whether visualizing\\neffective attention gives different conclusions than interpretation of standard\\nattention. Using a subset of the GLUE tasks and BERT, we carry out an analysis\\nto compare the two attention matrices, and show that their interpretations\\ndiffer. Effective attention is less associated with the features related to the\\nlanguage modeling pretraining such as the separator token, and it has more\\npotential to illustrate linguistic features captured by the model for solving\\nthe end-task. Given the found differences, we recommend using effective\\nattention for studying a transformer's behavior since it is more pertinent to\\nthe model output by design.\\nCategories: cs.CL\\nID: 2105.08855\",\n",
       "  'Title: KDExplainer: A Task-oriented Attention Model for Explaining Knowledge\\n  Distillation\\nAuthors: Mengqi Xue, Jie Song, Xinchao Wang, Ying Chen, Xingen Wang, Mingli\\n  Song\\nAbstract: Knowledge distillation (KD) has recently emerged as an efficacious scheme for\\nlearning compact deep neural networks (DNNs). Despite the promising results\\nachieved, the rationale that interprets the behavior of KD has yet remained\\nlargely understudied. In this paper, we introduce a novel task-oriented\\nattention model, termed as KDExplainer, to shed light on the working mechanism\\nunderlying the vanilla KD. At the heart of KDExplainer is a Hierarchical\\nMixture of Experts (HME), in which a multi-class classification is reformulated\\nas a multi-task binary one. Through distilling knowledge from a free-form\\npre-trained DNN to KDExplainer, we observe that KD implicitly modulates the\\nknowledge conflicts between different subtasks, and in reality has much more to\\noffer than label smoothing. Based on such findings, we further introduce a\\nportable tool, dubbed as virtual attention module (VAM), that can be seamlessly\\nintegrated with various DNNs to enhance their performance under KD.\\nExperimental results demonstrate that with a negligible additional cost,\\nstudent models equipped with VAM consistently outperform their non-VAM\\ncounterparts across different benchmarks. Furthermore, when combined with other\\nKD methods, VAM remains competent in promoting results, even though it is only',\n",
       "  'Title: Beyond Self-attention: External Attention using Two Linear Layers for\\n  Visual Tasks\\nAuthors: Meng-Hao Guo, Zheng-Ning Liu, Tai-Jiang Mu, Shi-Min Hu\\nAbstract: Attention mechanisms, especially self-attention, have played an increasingly\\nimportant role in deep feature representation for visual tasks. Self-attention\\nupdates the feature at each position by computing a weighted sum of features\\nusing pair-wise affinities across all positions to capture the long-range\\ndependency within a single sample. However, self-attention has quadratic\\ncomplexity and ignores potential correlation between different samples. This\\npaper proposes a novel attention mechanism which we call external attention,\\nbased on two external, small, learnable, shared memories, which can be\\nimplemented easily by simply using two cascaded linear layers and two\\nnormalization layers; it conveniently replaces self-attention in existing\\npopular architectures. External attention has linear complexity and implicitly\\nconsiders the correlations between all data samples. We further incorporate the\\nmulti-head mechanism into external attention to provide an all-MLP\\narchitecture, external attention MLP (EAMLP), for image classification.\\nExtensive experiments on image classification, object detection, semantic\\nsegmentation, instance segmentation, image generation, and point cloud analysis\\nreveal that our method provides results comparable or superior to the']}"
      ]
     },
     "execution_count": 12,
     "metadata": {},
     "output_type": "execute_result"
    }
   ],
   "source": [
    "print(\"\\nTesting complex concept explanation...\")\n",
    "chat_with_expert(\"Explain the concept of attention mechanism in deep learning\")"
   ]
  },
  {
   "cell_type": "code",
   "execution_count": 13,
   "metadata": {},
   "outputs": [
    {
     "name": "stdout",
     "output_type": "stream",
     "text": [
      "\n",
      "Testing follow-up question handling...\n",
      "\n",
      "\n",
      "\u001b[1m> Entering new LLMChain chain...\u001b[0m\n",
      "Prompt after formatting:\n",
      "\u001b[32;1m\u001b[1;3mGiven the following conversation and a follow up question, rephrase the follow up question to be a standalone question, in its original language.\n",
      "\n",
      "Chat History:\n",
      "\n",
      "Human: What are the latest developments in transformer models?\n",
      "Assistant: Based on the provided abstracts, there are several recent developments in transformer models:\n",
      "\n",
      "* **Improved Transformer Creation Methods:**  One study found that manually created transformers are risky, as four out of an unspecified number were found to be \"unsound\" when compared to transformers created using a method called AMURTH (2105.00493).  The specifics of AMURTH are not detailed.\n",
      "\n",
      "* **Byte-Level Transformer Models:**  Research has explored byte-level transformer models based on the T5 architecture (2105.13626).\n",
      "\n",
      "* **Comparison of Pre-trained Convolutions and Transformers:** A study compared pre-trained convolutional neural networks (CNNs) with pre-trained transformers, finding that CNNs were competitive and even outperformed transformers in some scenarios (2105.03322).  This suggests that architectural advances should be considered independently from pre-training techniques.\n",
      "\n",
      "* **Transformer Models for Noisy Speech Data:**  Work has been done to develop transformer-based models for noisy speech and language data from K-12 classrooms, achieving an F1 score of 79.3% (2105.07949).  Challenges in working with this type of data were also discussed.\n",
      "Human: Explain the concept of attention mechanism in deep learning\n",
      "Assistant: Based on the provided text, attention mechanisms in deep learning are used to weigh the importance of different parts of the input data when generating an output.  Several types are mentioned:\n",
      "\n",
      "* **Self-attention:**  This mechanism weighs the importance of different parts *within a single input sample*.  It captures long-range dependencies but has quadratic complexity.\n",
      "\n",
      "* **External attention:** This mechanism uses shared, learnable memories (implemented with linear layers) to weigh the importance of different parts of the input, implicitly considering correlations *between different samples*. It has linear complexity.\n",
      "\n",
      "* **Hierarchical attention:** This mechanism is used to process hierarchical data, such as in video question answering.\n",
      "\n",
      "The papers also discuss how attention mechanisms can be used for interpretability (analyzing *effective attention* to understand model behavior) and knowledge distillation (using attention to understand how knowledge is transferred between models).\n",
      "Follow Up Input: What are its advantages?\n",
      "Standalone question:\u001b[0m\n",
      "\n",
      "\u001b[1m> Finished chain.\u001b[0m\n",
      "\n",
      "\n",
      "\u001b[1m> Entering new StuffDocumentsChain chain...\u001b[0m\n",
      "\n",
      "\n",
      "\u001b[1m> Entering new LLMChain chain...\u001b[0m\n",
      "Prompt after formatting:\n",
      "\u001b[32;1m\u001b[1;3mSystem: Use the following pieces of context to answer the user's question. \n",
      "If you don't know the answer, just say that you don't know, don't try to make up an answer.\n",
      "----------------\n",
      "Title: Do You Even Need Attention? A Stack of Feed-Forward Layers Does\n",
      "  Surprisingly Well on ImageNet\n",
      "Authors: Luke Melas-Kyriazi\n",
      "Abstract: The strong performance of vision transformers on image classification and\n",
      "other vision tasks is often attributed to the design of their multi-head\n",
      "attention layers. However, the extent to which attention is responsible for\n",
      "this strong performance remains unclear. In this short report, we ask: is the\n",
      "attention layer even necessary? Specifically, we replace the attention layer in\n",
      "a vision transformer with a feed-forward layer applied over the patch\n",
      "dimension. The resulting architecture is simply a series of feed-forward layers\n",
      "applied over the patch and feature dimensions in an alternating fashion. In\n",
      "experiments on ImageNet, this architecture performs surprisingly well: a\n",
      "ViT/DeiT-base-sized model obtains 74.9\\% top-1 accuracy, compared to 77.9\\% and\n",
      "79.9\\% for ViT and DeiT respectively. These results indicate that aspects of\n",
      "vision transformers other than attention, such as the patch embedding, may be\n",
      "more responsible for their strong performance than previously thought. We hope\n",
      "these results prompt the community to spend more time trying to understand why\n",
      "our current models are as effective as they are.\n",
      "Categories: cs.CV\n",
      "ID: 2105.02723\n",
      "\n",
      "Title: Order in the Court: Explainable AI Methods Prone to Disagreement\n",
      "Authors: Michael Neely, Stefan F. Schouten, Maurits J. R. Bleeker, and Ana\n",
      "  Lucic\n",
      "Abstract: By computing the rank correlation between attention weights and\n",
      "feature-additive explanation methods, previous analyses either invalidate or\n",
      "support the role of attention-based explanations as a faithful and plausible\n",
      "measure of salience. To investigate whether this approach is appropriate, we\n",
      "compare LIME, Integrated Gradients, DeepLIFT, Grad-SHAP, Deep-SHAP, and\n",
      "attention-based explanations, applied to two neural architectures trained on\n",
      "single- and pair-sequence language tasks. In most cases, we find that none of\n",
      "our chosen methods agree. Based on our empirical observations and theoretical\n",
      "objections, we conclude that rank correlation does not measure the quality of\n",
      "feature-additive methods. Practitioners should instead use the numerous and\n",
      "rigorous diagnostic methods proposed by the community.\n",
      "Categories: cs.LG cs.CL\n",
      "ID: 2105.03287\n",
      "\n",
      "hierarchical attention mechanism to predict the answer. We conduct extensive\n",
      "experiments on a large scale VideoQA dataset, and the experimental results\n",
      "demonstrate that our RHA outperforms the state-of-the-art methods.\n",
      "Categories: cs.CV cs.AI\n",
      "ID: 2105.0616\n",
      "\n",
      "Title: Intriguing Properties of Vision Transformers\n",
      "Authors: Muzammal Naseer, Kanchana Ranasinghe, Salman Khan, Munawar Hayat,\n",
      "  Fahad Shahbaz Khan, Ming-Hsuan Yang\n",
      "Abstract: Vision transformers (ViT) have demonstrated impressive performance across\n",
      "various machine vision problems. These models are based on multi-head\n",
      "self-attention mechanisms that can flexibly attend to a sequence of image\n",
      "patches to encode contextual cues. An important question is how such\n",
      "flexibility in attending image-wide context conditioned on a given patch can\n",
      "facilitate handling nuisances in natural images e.g., severe occlusions, domain\n",
      "shifts, spatial permutations, adversarial and natural perturbations. We\n",
      "systematically study this question via an extensive set of experiments\n",
      "encompassing three ViT families and comparisons with a high-performing\n",
      "convolutional neural network (CNN). We show and analyze the following\n",
      "intriguing properties of ViT: (a) Transformers are highly robust to severe\n",
      "occlusions, perturbations and domain shifts, e.g., retain as high as 60% top-1\n",
      "accuracy on ImageNet even after randomly occluding 80% of the image content.\n",
      "(b) The robust performance to occlusions is not due to a bias towards local\n",
      "textures, and ViTs are significantly less biased towards textures compared to\n",
      "CNNs. When properly trained to encode shape-based features, ViTs demonstrate\n",
      "shape recognition capability comparable to that of human visual system,\n",
      "Human: What are the advantages of attention mechanisms in deep learning?\u001b[0m\n",
      "\n",
      "\u001b[1m> Finished chain.\u001b[0m\n",
      "\n",
      "\u001b[1m> Finished chain.\u001b[0m\n",
      "Answer: Based on the provided text, attention mechanisms in vision transformers allow for flexible attention to a sequence of image patches to encode contextual cues.  This flexibility facilitates handling nuisances in natural images such as occlusions, domain shifts, and perturbations.  One study showed that vision transformers retain high accuracy even with 80% of an image randomly occluded.  However, another study questions the reliability of using attention weights as a measure of salience, finding disagreement between attention-based explanations and other explanation methods.\n",
      "\n",
      "Relevant Papers:\n",
      "1. Title: Do You Even Need Attention? A Stack of Feed-Forward Layers Does\n",
      "  Surprisingly Well on ImageNet\n",
      "Authors: Luke Melas-Kyriazi\n",
      "Abstract: The strong performance of vision transformers on image classification and\n",
      "other vision tasks is often attributed to the design of their multi-head\n",
      "attention layers. However, the extent to which attention is responsible for\n",
      "this strong performance remains unclear. In this short report, we ask: is the\n",
      "attention layer even necessary? Specifically, we replace the attention layer in\n",
      "a vision transformer with a feed-forward layer applied over the patch\n",
      "dimension. The resulting architecture is simply a series of feed-forward layers\n",
      "applied over the patch and feature dimensions in an alternating fashion. In\n",
      "experiments on ImageNet, this architecture performs surprisingly well: a\n",
      "ViT/DeiT-base-sized model obtains 74.9\\% top-1 accuracy, compared to 77.9\\% and\n",
      "79.9\\% for ViT and DeiT respectively. These results indicate that aspects of\n",
      "vision transformers other than attention, such as the patch embedding, may be\n",
      "more responsible for their strong performance than previously thought. We hope\n",
      "these results prompt the community to spend more time trying to understand why\n",
      "our current models are as effective as they are.\n",
      "Categories: cs.CV\n",
      "ID: 2105.02723\n",
      "2. Title: Order in the Court: Explainable AI Methods Prone to Disagreement\n",
      "Authors: Michael Neely, Stefan F. Schouten, Maurits J. R. Bleeker, and Ana\n",
      "  Lucic\n",
      "Abstract: By computing the rank correlation between attention weights and\n",
      "feature-additive explanation methods, previous analyses either invalidate or\n",
      "support the role of attention-based explanations as a faithful and plausible\n",
      "measure of salience. To investigate whether this approach is appropriate, we\n",
      "compare LIME, Integrated Gradients, DeepLIFT, Grad-SHAP, Deep-SHAP, and\n",
      "attention-based explanations, applied to two neural architectures trained on\n",
      "single- and pair-sequence language tasks. In most cases, we find that none of\n",
      "our chosen methods agree. Based on our empirical observations and theoretical\n",
      "objections, we conclude that rank correlation does not measure the quality of\n",
      "feature-additive methods. Practitioners should instead use the numerous and\n",
      "rigorous diagnostic methods proposed by the community.\n",
      "Categories: cs.LG cs.CL\n",
      "ID: 2105.03287\n",
      "3. hierarchical attention mechanism to predict the answer. We conduct extensive\n",
      "experiments on a large scale VideoQA dataset, and the experimental results\n",
      "demonstrate that our RHA outperforms the state-of-the-art methods.\n",
      "Categories: cs.CV cs.AI\n",
      "ID: 2105.0616\n",
      "4. Title: Intriguing Properties of Vision Transformers\n",
      "Authors: Muzammal Naseer, Kanchana Ranasinghe, Salman Khan, Munawar Hayat,\n",
      "  Fahad Shahbaz Khan, Ming-Hsuan Yang\n",
      "Abstract: Vision transformers (ViT) have demonstrated impressive performance across\n",
      "various machine vision problems. These models are based on multi-head\n",
      "self-attention mechanisms that can flexibly attend to a sequence of image\n",
      "patches to encode contextual cues. An important question is how such\n",
      "flexibility in attending image-wide context conditioned on a given patch can\n",
      "facilitate handling nuisances in natural images e.g., severe occlusions, domain\n",
      "shifts, spatial permutations, adversarial and natural perturbations. We\n",
      "systematically study this question via an extensive set of experiments\n",
      "encompassing three ViT families and comparisons with a high-performing\n",
      "convolutional neural network (CNN). We show and analyze the following\n",
      "intriguing properties of ViT: (a) Transformers are highly robust to severe\n",
      "occlusions, perturbations and domain shifts, e.g., retain as high as 60% top-1\n",
      "accuracy on ImageNet even after randomly occluding 80% of the image content.\n",
      "(b) The robust performance to occlusions is not due to a bias towards local\n",
      "textures, and ViTs are significantly less biased towards textures compared to\n",
      "CNNs. When properly trained to encode shape-based features, ViTs demonstrate\n",
      "shape recognition capability comparable to that of human visual system,\n"
     ]
    },
    {
     "data": {
      "text/plain": [
       "{'answer': 'Based on the provided text, attention mechanisms in vision transformers allow for flexible attention to a sequence of image patches to encode contextual cues.  This flexibility facilitates handling nuisances in natural images such as occlusions, domain shifts, and perturbations.  One study showed that vision transformers retain high accuracy even with 80% of an image randomly occluded.  However, another study questions the reliability of using attention weights as a measure of salience, finding disagreement between attention-based explanations and other explanation methods.',\n",
       " 'source_papers': ['Title: Do You Even Need Attention? A Stack of Feed-Forward Layers Does\\n  Surprisingly Well on ImageNet\\nAuthors: Luke Melas-Kyriazi\\nAbstract: The strong performance of vision transformers on image classification and\\nother vision tasks is often attributed to the design of their multi-head\\nattention layers. However, the extent to which attention is responsible for\\nthis strong performance remains unclear. In this short report, we ask: is the\\nattention layer even necessary? Specifically, we replace the attention layer in\\na vision transformer with a feed-forward layer applied over the patch\\ndimension. The resulting architecture is simply a series of feed-forward layers\\napplied over the patch and feature dimensions in an alternating fashion. In\\nexperiments on ImageNet, this architecture performs surprisingly well: a\\nViT/DeiT-base-sized model obtains 74.9\\\\% top-1 accuracy, compared to 77.9\\\\% and\\n79.9\\\\% for ViT and DeiT respectively. These results indicate that aspects of\\nvision transformers other than attention, such as the patch embedding, may be\\nmore responsible for their strong performance than previously thought. We hope\\nthese results prompt the community to spend more time trying to understand why\\nour current models are as effective as they are.\\nCategories: cs.CV\\nID: 2105.02723',\n",
       "  'Title: Order in the Court: Explainable AI Methods Prone to Disagreement\\nAuthors: Michael Neely, Stefan F. Schouten, Maurits J. R. Bleeker, and Ana\\n  Lucic\\nAbstract: By computing the rank correlation between attention weights and\\nfeature-additive explanation methods, previous analyses either invalidate or\\nsupport the role of attention-based explanations as a faithful and plausible\\nmeasure of salience. To investigate whether this approach is appropriate, we\\ncompare LIME, Integrated Gradients, DeepLIFT, Grad-SHAP, Deep-SHAP, and\\nattention-based explanations, applied to two neural architectures trained on\\nsingle- and pair-sequence language tasks. In most cases, we find that none of\\nour chosen methods agree. Based on our empirical observations and theoretical\\nobjections, we conclude that rank correlation does not measure the quality of\\nfeature-additive methods. Practitioners should instead use the numerous and\\nrigorous diagnostic methods proposed by the community.\\nCategories: cs.LG cs.CL\\nID: 2105.03287',\n",
       "  'hierarchical attention mechanism to predict the answer. We conduct extensive\\nexperiments on a large scale VideoQA dataset, and the experimental results\\ndemonstrate that our RHA outperforms the state-of-the-art methods.\\nCategories: cs.CV cs.AI\\nID: 2105.0616',\n",
       "  'Title: Intriguing Properties of Vision Transformers\\nAuthors: Muzammal Naseer, Kanchana Ranasinghe, Salman Khan, Munawar Hayat,\\n  Fahad Shahbaz Khan, Ming-Hsuan Yang\\nAbstract: Vision transformers (ViT) have demonstrated impressive performance across\\nvarious machine vision problems. These models are based on multi-head\\nself-attention mechanisms that can flexibly attend to a sequence of image\\npatches to encode contextual cues. An important question is how such\\nflexibility in attending image-wide context conditioned on a given patch can\\nfacilitate handling nuisances in natural images e.g., severe occlusions, domain\\nshifts, spatial permutations, adversarial and natural perturbations. We\\nsystematically study this question via an extensive set of experiments\\nencompassing three ViT families and comparisons with a high-performing\\nconvolutional neural network (CNN). We show and analyze the following\\nintriguing properties of ViT: (a) Transformers are highly robust to severe\\nocclusions, perturbations and domain shifts, e.g., retain as high as 60% top-1\\naccuracy on ImageNet even after randomly occluding 80% of the image content.\\n(b) The robust performance to occlusions is not due to a bias towards local\\ntextures, and ViTs are significantly less biased towards textures compared to\\nCNNs. When properly trained to encode shape-based features, ViTs demonstrate\\nshape recognition capability comparable to that of human visual system,']}"
      ]
     },
     "execution_count": 13,
     "metadata": {},
     "output_type": "execute_result"
    }
   ],
   "source": [
    "print(\"\\nTesting follow-up question handling...\")\n",
    "chat_with_expert(\"What are its advantages?\")  # Follow-up about attention mechanism"
   ]
  },
  {
   "cell_type": "code",
   "execution_count": 14,
   "metadata": {},
   "outputs": [],
   "source": [
    "def search_papers(query: str, n_results: int = 5):\n",
    "    \"\"\"Search for relevant papers in the vector store\"\"\"\n",
    "    results = vector_store.similarity_search(query, k=n_results)\n",
    "\n",
    "    if not results:\n",
    "        print(\"No relevant papers found.\")\n",
    "        return []\n",
    "\n",
    "    papers = []\n",
    "    for doc in results:\n",
    "        content = doc.page_content.strip()  # Remove leading/trailing spaces\n",
    "        lines = content.split(\"\\n\")  # Split into lines instead of \"\\n\\n\"\n",
    "        \n",
    "        title, abstract = \"No Title Available\", \"No Abstract Available\"\n",
    "        \n",
    "        # Try to extract title properly\n",
    "        for line in lines:\n",
    "            if line.lower().startswith(\"title:\"):\n",
    "                title = line.replace(\"Title:\", \"\").strip()\n",
    "            elif line.lower().startswith(\"abstract:\"):\n",
    "                abstract = line.replace(\"Abstract:\", \"\").strip()\n",
    "                break  # Stop after finding the first abstract\n",
    "        \n",
    "        papers.append({\"title\": title, \"abstract\": abstract})\n",
    "    \n",
    "    return papers"
   ]
  },
  {
   "cell_type": "code",
   "execution_count": 15,
   "metadata": {},
   "outputs": [
    {
     "name": "stdout",
     "output_type": "stream",
     "text": [
      "\n",
      "Testing paper search...\n",
      "Papers Found: [{'title': 'No Title Available', 'abstract': 'No Abstract Available'}, {'title': 'Reinforcement Learning with Expert Trajectory For Quantitative Trading', 'abstract': 'In recent years, quantitative investment methods combined with artificial'}, {'title': 'What is Going on Inside Recurrent Meta Reinforcement Learning Agents?', 'abstract': 'Recurrent meta reinforcement learning (meta-RL) agents are agents that employ'}, {'title': 'Efficient PAC Reinforcement Learning in Regular Decision Processes', 'abstract': 'Recently regular decision processes have been proposed as a well-behaved form'}, {'title': 'No Title Available', 'abstract': 'No Abstract Available'}]\n"
     ]
    }
   ],
   "source": [
    "# Testing\n",
    "print(\"\\nTesting paper search...\")\n",
    "papers = search_papers(\"reinforcement learning\")\n",
    "print(\"Papers Found:\", papers)"
   ]
  },
  {
   "cell_type": "code",
   "execution_count": 16,
   "metadata": {},
   "outputs": [],
   "source": [
    "# Cell 7: Function for concept visualization (Outcome 4)\n",
    "def visualize_concepts(query: str):\n",
    "    \"\"\"Create concept visualization for a given topic\"\"\"\n",
    "    papers = search_papers(query, n_results=10)\n",
    "    \n",
    "    vectorizer = CountVectorizer(max_features=10, stop_words='english')\n",
    "    doc_term_matrix = vectorizer.fit_transform([p['abstract'] for p in papers])\n",
    "    terms = vectorizer.get_feature_names_out()\n",
    "    \n",
    "    G = nx.Graph()\n",
    "    G.add_node(query, size=3000)\n",
    "    for term in terms:\n",
    "        G.add_node(term, size=1000)\n",
    "        G.add_edge(query, term)\n",
    "    \n",
    "    plt.figure(figsize=(12, 8))\n",
    "    pos = nx.spring_layout(G)\n",
    "    nx.draw(G, pos, with_labels=True, node_color='lightblue',\n",
    "            node_size=[G.nodes[node]['size'] for node in G.nodes],\n",
    "            font_size=10, font_weight='bold')\n",
    "    plt.title(f\"Concept Map for: {query}\")\n",
    "    plt.show()"
   ]
  },
  {
   "cell_type": "code",
   "execution_count": 17,
   "metadata": {},
   "outputs": [
    {
     "data": {
      "image/png": "[encoded data removed]",
      "text/plain": [
       "<Figure size 1200x800 with 1 Axes>"
      ]
     },
     "metadata": {},
     "output_type": "display_data"
    }
   ],
   "source": [
    "visualize_concepts(\"reinforcement learning\")"
   ]
  },
  {
   "cell_type": "code",
   "execution_count": 18,
   "metadata": {},
   "outputs": [
    {
     "name": "stdout",
     "output_type": "stream",
     "text": [
      "\n",
      "Testing complex concept explanation...\n"
     ]
    },
    {
     "data": {
      "text/plain": [
       "AIMessage(content='This research paper, \"Effective Attention Sheds Light On Interpretability,\" by Kaiser Sun and Ana Marasovi\\\\\\'c, investigates the interpretability of attention mechanisms in transformer models, specifically focusing on BERT.\\n\\n**1. Main Objectives:** The primary objective is to determine whether visualizing \"effective attention\" – a component of the standard attention matrix proven to be solely responsible for influencing model output – provides a more insightful interpretation of a transformer\\'s behavior compared to visualizing the standard attention matrix.  The researchers aim to show that standard attention can be misleading due to the inclusion of irrelevant information.\\n\\n**2. Key Findings:** The authors demonstrate that standard and effective attention matrices yield different interpretations.  They find that standard attention is more strongly associated with artifacts from the language modeling pre-training phase, such as the separator token, while effective attention is less influenced by these artifacts.  Effective attention, therefore, appears to better highlight the linguistic features relevant to the specific downstream task (a subset of GLUE tasks were used).  This suggests that effective attention provides a more accurate representation of the model\\'s decision-making process for the task at hand.\\n\\n**3. Methodology:** The researchers leveraged a mathematical decomposition of the transformer\\'s self-attention sublayer\\'s attention matrix, proving that it can be separated into two components: one contributing to the model\\'s output (effective attention) and another that does not.  They then compared visualizations of both standard and effective attention matrices using BERT on a subset of GLUE tasks.  The comparison focused on identifying correlations between attention weights and features like the separator token, to assess the influence of pre-training artifacts.\\n\\n**4. Conclusions:** The study concludes that effective attention provides a superior method for interpreting transformer models.  Because it directly reflects the model\\'s contribution to the final output, it offers a cleaner and more accurate representation of the model\\'s reasoning process for a given task, minimizing the distraction of pre-training artifacts present in standard attention visualizations.  The authors recommend using effective attention for future interpretability analyses of transformer models.', additional_kwargs={}, response_metadata={'prompt_feedback': {'block_reason': 0, 'safety_ratings': []}, 'finish_reason': 'STOP', 'safety_ratings': []}, id='run-ac668e60-f7a5-487c-945e-5d91823be231-0', usage_metadata={'input_tokens': 254, 'output_tokens': 420, 'total_tokens': 674, 'input_token_details': {'cache_read': 0}})"
      ]
     },
     "execution_count": 18,
     "metadata": {},
     "output_type": "execute_result"
    }
   ],
   "source": [
    "print(\"\\nTesting complex concept explanation...\")\n",
    "summarize_paper(\"Summarize the concept of attention mechanism \")"
   ]
  },
  {
   "cell_type": "code",
   "execution_count": 19,
   "metadata": {},
   "outputs": [],
   "source": [
    "import plotly.graph_objects as go"
   ]
  },
  {
   "cell_type": "code",
   "execution_count": 20,
   "metadata": {},
   "outputs": [],
   "source": [
    "def visualize_concepts(query: str) -> go.Figure:\n",
    "    \"\"\"Generate an improved concept visualization graph.\"\"\"\n",
    "    try:\n",
    "        papers = search_papers(query, n_results=10)\n",
    "        if not papers:\n",
    "            raise ValueError(\"No papers found for visualization\")\n",
    "\n",
    "        vectorizer = CountVectorizer(\n",
    "            max_features=10,\n",
    "            stop_words='english',\n",
    "            min_df=2\n",
    "        )\n",
    "        \n",
    "        abstracts = [p['abstract'] for p in papers]\n",
    "        doc_term_matrix = vectorizer.fit_transform(abstracts)\n",
    "        terms = vectorizer.get_feature_names_out()\n",
    "\n",
    "        # Create network graph\n",
    "        G = nx.Graph()\n",
    "        G.add_node(query, size=20, color='red')\n",
    "        for term in terms:\n",
    "            G.add_node(term, size=15, color='blue')\n",
    "            G.add_edge(query, term)\n",
    "\n",
    "        pos = nx.spring_layout(G)\n",
    "        \n",
    "        # Create Plotly figure\n",
    "        fig = go.Figure()\n",
    "        \n",
    "        # Add edges\n",
    "        edge_x = []\n",
    "        edge_y = []\n",
    "        for edge in G.edges():\n",
    "            x0, y0 = pos[edge[0]]\n",
    "            x1, y1 = pos[edge[1]]\n",
    "            edge_x.extend([x0, x1, None])\n",
    "            edge_y.extend([y0, y1, None])\n",
    "            \n",
    "        fig.add_trace(go.Scatter(\n",
    "            x=edge_x, y=edge_y,\n",
    "            line=dict(width=0.5, color='#888'),\n",
    "            hoverinfo='none',\n",
    "            mode='lines'\n",
    "        ))\n",
    "\n",
    "        # Add nodes\n",
    "        node_x = []\n",
    "        node_y = []\n",
    "        node_text = []\n",
    "        node_size = []\n",
    "        node_color = []\n",
    "        \n",
    "        for node in G.nodes():\n",
    "            x, y = pos[node]\n",
    "            node_x.append(x)\n",
    "            node_y.append(y)\n",
    "            node_text.append(node)\n",
    "            node_size.append(G.nodes[node]['size'])\n",
    "            node_color.append(G.nodes[node]['color'])\n",
    "            \n",
    "        fig.add_trace(go.Scatter(\n",
    "            x=node_x, y=node_y,\n",
    "            mode='markers+text',\n",
    "            hoverinfo='text',\n",
    "            text=node_text,\n",
    "            textposition='top center',\n",
    "            marker=dict(\n",
    "                size=node_size,\n",
    "                color=node_color,\n",
    "                line_width=2\n",
    "            )\n",
    "        ))\n",
    "        \n",
    "        fig.update_layout(\n",
    "            title=f\"Concept Map for: {query}\",\n",
    "            showlegend=False,\n",
    "            hovermode='closest',\n",
    "            margin=dict(b=20, l=5, r=5, t=40)\n",
    "        )\n",
    "        \n",
    "        return fig\n",
    "    except Exception as e:\n",
    "        # Return a basic figure with error message\n",
    "        fig = go.Figure()\n",
    "        fig.add_annotation(\n",
    "            text=f\"Error generating visualization: {str(e)}\",\n",
    "            xref=\"paper\", yref=\"paper\",\n",
    "            x=0.5, y=0.5, showarrow=False\n",
    "        )\n",
    "        return fig"
   ]
  },
  {
   "cell_type": "code",
   "execution_count": 21,
   "metadata": {},
   "outputs": [
    {
     "data": {
      "application/vnd.plotly.v1+json": {
       "config": {
        "plotlyServerURL": "https://plot.ly"
       },
       "data": [
        {
         "hoverinfo": "none",
         "line": {
          "color": "#888",
          "width": 0.5
         },
         "mode": "lines",
         "type": "scatter",
         "x": [
          0.0019580919107949875,
          -0.3759602887947153,
          null,
          0.0019580919107949875,
          0.8506884735556365,
          null,
          0.0019580919107949875,
          -0.24316334799576095,
          null,
          0.0019580919107949875,
          0.766477071324045,
          null,
          0.0019580919107949875,
          -1,
          null
         ],
         "y": [
          -0.0019112069970923784,
          0.9300728846710892,
          null,
          -0.0019112069970923784,
          -0.5323717288964861,
          null,
          -0.0019112069970923784,
          -0.9734921114203032,
          null,
          -0.0019112069970923784,
          0.6457863726140551,
          null,
          -0.0019112069970923784,
          -0.06808420997126274,
          null
         ]
        },
        {
         "hoverinfo": "text",
         "marker": {
          "color": [
           "red",
           "blue",
           "blue",
           "blue",
           "blue",
           "blue"
          ],
          "line": {
           "width": 2
          },
          "size": [
           20,
           15,
           15,
           15,
           15,
           15
          ]
         },
         "mode": "markers+text",
         "text": [
          "reinforcement learning",
          "abstract",
          "available",
          "learning",
          "reinforcement",
          "rl"
         ],
         "textposition": "top center",
         "type": "scatter",
         "x": [
          0.0019580919107949875,
          -0.3759602887947153,
          0.8506884735556365,
          -0.24316334799576095,
          0.766477071324045,
          -1
         ],
         "y": [
          -0.0019112069970923784,
          0.9300728846710892,
          -0.5323717288964861,
          -0.9734921114203032,
          0.6457863726140551,
          -0.06808420997126274
         ]
        }
       ],
       "layout": {
        "hovermode": "closest",
        "margin": {
         "b": 20,
         "l": 5,
         "r": 5,
         "t": 40
        },
        "showlegend": false,
        "template": {
         "data": {
          "bar": [
           {
            "error_x": {
             "color": "#2a3f5f"
            },
            "error_y": {
             "color": "#2a3f5f"
            },
            "marker": {
             "line": {
              "color": "#E5ECF6",
              "width": 0.5
             },
             "pattern": {
              "fillmode": "overlay",
              "size": 10,
              "solidity": 0.2
             }
            },
            "type": "bar"
           }
          ],
          "barpolar": [
           {
            "marker": {
             "line": {
              "color": "#E5ECF6",
              "width": 0.5
             },
             "pattern": {
              "fillmode": "overlay",
              "size": 10,
              "solidity": 0.2
             }
            },
            "type": "barpolar"
           }
          ],
          "carpet": [
           {
            "aaxis": {
             "endlinecolor": "#2a3f5f",
             "gridcolor": "white",
             "linecolor": "white",
             "minorgridcolor": "white",
             "startlinecolor": "#2a3f5f"
            },
            "baxis": {
             "endlinecolor": "#2a3f5f",
             "gridcolor": "white",
             "linecolor": "white",
             "minorgridcolor": "white",
             "startlinecolor": "#2a3f5f"
            },
            "type": "carpet"
           }
          ],
          "choropleth": [
           {
            "colorbar": {
             "outlinewidth": 0,
             "ticks": ""
            },
            "type": "choropleth"
           }
          ],
          "contour": [
           {
            "colorbar": {
             "outlinewidth": 0,
             "ticks": ""
            },
            "colorscale": [
             [
              0,
              "#0d0887"
             ],
             [
              0.1111111111111111,
              "#46039f"
             ],
             [
              0.2222222222222222,
              "#7201a8"
             ],
             [
              0.3333333333333333,
              "#9c179e"
             ],
             [
              0.4444444444444444,
              "#bd3786"
             ],
             [
              0.5555555555555556,
              "#d8576b"
             ],
             [
              0.6666666666666666,
              "#ed7953"
             ],
             [
              0.7777777777777778,
              "#fb9f3a"
             ],
             [
              0.8888888888888888,
              "#fdca26"
             ],
             [
              1,
              "#f0f921"
             ]
            ],
            "type": "contour"
           }
          ],
          "contourcarpet": [
           {
            "colorbar": {
             "outlinewidth": 0,
             "ticks": ""
            },
            "type": "contourcarpet"
           }
          ],
          "heatmap": [
           {
            "colorbar": {
             "outlinewidth": 0,
             "ticks": ""
            },
            "colorscale": [
             [
              0,
              "#0d0887"
             ],
             [
              0.1111111111111111,
              "#46039f"
             ],
             [
              0.2222222222222222,
              "#7201a8"
             ],
             [
              0.3333333333333333,
              "#9c179e"
             ],
             [
              0.4444444444444444,
              "#bd3786"
             ],
             [
              0.5555555555555556,
              "#d8576b"
             ],
             [
              0.6666666666666666,
              "#ed7953"
             ],
             [
              0.7777777777777778,
              "#fb9f3a"
             ],
             [
              0.8888888888888888,
              "#fdca26"
             ],
             [
              1,
              "#f0f921"
             ]
            ],
            "type": "heatmap"
           }
          ],
          "histogram": [
           {
            "marker": {
             "pattern": {
              "fillmode": "overlay",
              "size": 10,
              "solidity": 0.2
             }
            },
            "type": "histogram"
           }
          ],
          "histogram2d": [
           {
            "colorbar": {
             "outlinewidth": 0,
             "ticks": ""
            },
            "colorscale": [
             [
              0,
              "#0d0887"
             ],
             [
              0.1111111111111111,
              "#46039f"
             ],
             [
              0.2222222222222222,
              "#7201a8"
             ],
             [
              0.3333333333333333,
              "#9c179e"
             ],
             [
              0.4444444444444444,
              "#bd3786"
             ],
             [
              0.5555555555555556,
              "#d8576b"
             ],
             [
              0.6666666666666666,
              "#ed7953"
             ],
             [
              0.7777777777777778,
              "#fb9f3a"
             ],
             [
              0.8888888888888888,
              "#fdca26"
             ],
             [
              1,
              "#f0f921"
             ]
            ],
            "type": "histogram2d"
           }
          ],
          "histogram2dcontour": [
           {
            "colorbar": {
             "outlinewidth": 0,
             "ticks": ""
            },
            "colorscale": [
             [
              0,
              "#0d0887"
             ],
             [
              0.1111111111111111,
              "#46039f"
             ],
             [
              0.2222222222222222,
              "#7201a8"
             ],
             [
              0.3333333333333333,
              "#9c179e"
             ],
             [
              0.4444444444444444,
              "#bd3786"
             ],
             [
              0.5555555555555556,
              "#d8576b"
             ],
             [
              0.6666666666666666,
              "#ed7953"
             ],
             [
              0.7777777777777778,
              "#fb9f3a"
             ],
             [
              0.8888888888888888,
              "#fdca26"
             ],
             [
              1,
              "#f0f921"
             ]
            ],
            "type": "histogram2dcontour"
           }
          ],
          "mesh3d": [
           {
            "colorbar": {
             "outlinewidth": 0,
             "ticks": ""
            },
            "type": "mesh3d"
           }
          ],
          "parcoords": [
           {
            "line": {
             "colorbar": {
              "outlinewidth": 0,
              "ticks": ""
             }
            },
            "type": "parcoords"
           }
          ],
          "pie": [
           {
            "automargin": true,
            "type": "pie"
           }
          ],
          "scatter": [
           {
            "fillpattern": {
             "fillmode": "overlay",
             "size": 10,
             "solidity": 0.2
            },
            "type": "scatter"
           }
          ],
          "scatter3d": [
           {
            "line": {
             "colorbar": {
              "outlinewidth": 0,
              "ticks": ""
             }
            },
            "marker": {
             "colorbar": {
              "outlinewidth": 0,
              "ticks": ""
             }
            },
            "type": "scatter3d"
           }
          ],
          "scattercarpet": [
           {
            "marker": {
             "colorbar": {
              "outlinewidth": 0,
              "ticks": ""
             }
            },
            "type": "scattercarpet"
           }
          ],
          "scattergeo": [
           {
            "marker": {
             "colorbar": {
              "outlinewidth": 0,
              "ticks": ""
             }
            },
            "type": "scattergeo"
           }
          ],
          "scattergl": [
           {
            "marker": {
             "colorbar": {
              "outlinewidth": 0,
              "ticks": ""
             }
            },
            "type": "scattergl"
           }
          ],
          "scattermap": [
           {
            "marker": {
             "colorbar": {
              "outlinewidth": 0,
              "ticks": ""
             }
            },
            "type": "scattermap"
           }
          ],
          "scattermapbox": [
           {
            "marker": {
             "colorbar": {
              "outlinewidth": 0,
              "ticks": ""
             }
            },
            "type": "scattermapbox"
           }
          ],
          "scatterpolar": [
           {
            "marker": {
             "colorbar": {
              "outlinewidth": 0,
              "ticks": ""
             }
            },
            "type": "scatterpolar"
           }
          ],
          "scatterpolargl": [
           {
            "marker": {
             "colorbar": {
              "outlinewidth": 0,
              "ticks": ""
             }
            },
            "type": "scatterpolargl"
           }
          ],
          "scatterternary": [
           {
            "marker": {
             "colorbar": {
              "outlinewidth": 0,
              "ticks": ""
             }
            },
            "type": "scatterternary"
           }
          ],
          "surface": [
           {
            "colorbar": {
             "outlinewidth": 0,
             "ticks": ""
            },
            "colorscale": [
             [
              0,
              "#0d0887"
             ],
             [
              0.1111111111111111,
              "#46039f"
             ],
             [
              0.2222222222222222,
              "#7201a8"
             ],
             [
              0.3333333333333333,
              "#9c179e"
             ],
             [
              0.4444444444444444,
              "#bd3786"
             ],
             [
              0.5555555555555556,
              "#d8576b"
             ],
             [
              0.6666666666666666,
              "#ed7953"
             ],
             [
              0.7777777777777778,
              "#fb9f3a"
             ],
             [
              0.8888888888888888,
              "#fdca26"
             ],
             [
              1,
              "#f0f921"
             ]
            ],
            "type": "surface"
           }
          ],
          "table": [
           {
            "cells": {
             "fill": {
              "color": "#EBF0F8"
             },
             "line": {
              "color": "white"
             }
            },
            "header": {
             "fill": {
              "color": "#C8D4E3"
             },
             "line": {
              "color": "white"
             }
            },
            "type": "table"
           }
          ]
         },
         "layout": {
          "annotationdefaults": {
           "arrowcolor": "#2a3f5f",
           "arrowhead": 0,
           "arrowwidth": 1
          },
          "autotypenumbers": "strict",
          "coloraxis": {
           "colorbar": {
            "outlinewidth": 0,
            "ticks": ""
           }
          },
          "colorscale": {
           "diverging": [
            [
             0,
             "#8e0152"
            ],
            [
             0.1,
             "#c51b7d"
            ],
            [
             0.2,
             "#de77ae"
            ],
            [
             0.3,
             "#f1b6da"
            ],
            [
             0.4,
             "#fde0ef"
            ],
            [
             0.5,
             "#f7f7f7"
            ],
            [
             0.6,
             "#e6f5d0"
            ],
            [
             0.7,
             "#b8e186"
            ],
            [
             0.8,
             "#7fbc41"
            ],
            [
             0.9,
             "#4d9221"
            ],
            [
             1,
             "#276419"
            ]
           ],
           "sequential": [
            [
             0,
             "#0d0887"
            ],
            [
             0.1111111111111111,
             "#46039f"
            ],
            [
             0.2222222222222222,
             "#7201a8"
            ],
            [
             0.3333333333333333,
             "#9c179e"
            ],
            [
             0.4444444444444444,
             "#bd3786"
            ],
            [
             0.5555555555555556,
             "#d8576b"
            ],
            [
             0.6666666666666666,
             "#ed7953"
            ],
            [
             0.7777777777777778,
             "#fb9f3a"
            ],
            [
             0.8888888888888888,
             "#fdca26"
            ],
            [
             1,
             "#f0f921"
            ]
           ],
           "sequentialminus": [
            [
             0,
             "#0d0887"
            ],
            [
             0.1111111111111111,
             "#46039f"
            ],
            [
             0.2222222222222222,
             "#7201a8"
            ],
            [
             0.3333333333333333,
             "#9c179e"
            ],
            [
             0.4444444444444444,
             "#bd3786"
            ],
            [
             0.5555555555555556,
             "#d8576b"
            ],
            [
             0.6666666666666666,
             "#ed7953"
            ],
            [
             0.7777777777777778,
             "#fb9f3a"
            ],
            [
             0.8888888888888888,
             "#fdca26"
            ],
            [
             1,
             "#f0f921"
            ]
           ]
          },
          "colorway": [
           "#636efa",
           "#EF553B",
           "#00cc96",
           "#ab63fa",
           "#FFA15A",
           "#19d3f3",
           "#FF6692",
           "#B6E880",
           "#FF97FF",
           "#FECB52"
          ],
          "font": {
           "color": "#2a3f5f"
          },
          "geo": {
           "bgcolor": "white",
           "lakecolor": "white",
           "landcolor": "#E5ECF6",
           "showlakes": true,
           "showland": true,
           "subunitcolor": "white"
          },
          "hoverlabel": {
           "align": "left"
          },
          "hovermode": "closest",
          "mapbox": {
           "style": "light"
          },
          "paper_bgcolor": "white",
          "plot_bgcolor": "#E5ECF6",
          "polar": {
           "angularaxis": {
            "gridcolor": "white",
            "linecolor": "white",
            "ticks": ""
           },
           "bgcolor": "#E5ECF6",
           "radialaxis": {
            "gridcolor": "white",
            "linecolor": "white",
            "ticks": ""
           }
          },
          "scene": {
           "xaxis": {
            "backgroundcolor": "#E5ECF6",
            "gridcolor": "white",
            "gridwidth": 2,
            "linecolor": "white",
            "showbackground": true,
            "ticks": "",
            "zerolinecolor": "white"
           },
           "yaxis": {
            "backgroundcolor": "#E5ECF6",
            "gridcolor": "white",
            "gridwidth": 2,
            "linecolor": "white",
            "showbackground": true,
            "ticks": "",
            "zerolinecolor": "white"
           },
           "zaxis": {
            "backgroundcolor": "#E5ECF6",
            "gridcolor": "white",
            "gridwidth": 2,
            "linecolor": "white",
            "showbackground": true,
            "ticks": "",
            "zerolinecolor": "white"
           }
          },
          "shapedefaults": {
           "line": {
            "color": "#2a3f5f"
           }
          },
          "ternary": {
           "aaxis": {
            "gridcolor": "white",
            "linecolor": "white",
            "ticks": ""
           },
           "baxis": {
            "gridcolor": "white",
            "linecolor": "white",
            "ticks": ""
           },
           "bgcolor": "#E5ECF6",
           "caxis": {
            "gridcolor": "white",
            "linecolor": "white",
            "ticks": ""
           }
          },
          "title": {
           "x": 0.05
          },
          "xaxis": {
           "automargin": true,
           "gridcolor": "white",
           "linecolor": "white",
           "ticks": "",
           "title": {
            "standoff": 15
           },
           "zerolinecolor": "white",
           "zerolinewidth": 2
          },
          "yaxis": {
           "automargin": true,
           "gridcolor": "white",
           "linecolor": "white",
           "ticks": "",
           "title": {
            "standoff": 15
           },
           "zerolinecolor": "white",
           "zerolinewidth": 2
          }
         }
        },
        "title": {
         "text": "Concept Map for: reinforcement learning"
        }
       }
      }
     },
     "metadata": {},
     "output_type": "display_data"
    }
   ],
   "source": [
    "visualize_concepts(\"reinforcement learning\")"
   ]
  },
  {
   "cell_type": "code",
   "execution_count": null,
   "metadata": {},
   "outputs": [],
   "source": []
  }
 ],
 "metadata": {
  "kernelspec": {
   "display_name": "faiss_env",
   "language": "python",
   "name": "python3"
  },
  "language_info": {
   "codemirror_mode": {
    "name": "ipython",
    "version": 3
   },
   "file_extension": ".py",
   "mimetype": "text/x-python",
   "name": "python",
   "nbconvert_exporter": "python",
   "pygments_lexer": "ipython3",
   "version": "3.10.16"
  }
 },
 "nbformat": 4,
 "nbformat_minor": 2
}
