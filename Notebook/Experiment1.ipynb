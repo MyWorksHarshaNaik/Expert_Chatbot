{
 "cells": [
  {
   "cell_type": "code",
   "execution_count": 2,
   "metadata": {},
   "outputs": [],
   "source": [
    "import json\n",
    "import torch\n",
    "import pandas as pd\n",
    "from pathlib import Path\n",
    "from multiprocessing import Pool, cpu_count\n",
    "from langchain_community.vectorstores import FAISS\n",
    "from langchain_huggingface import HuggingFaceEmbeddings\n",
    "from langchain.text_splitter import RecursiveCharacterTextSplitter\n",
    "from tqdm import tqdm"
   ]
  },
  {
   "cell_type": "code",
   "execution_count": 3,
   "metadata": {},
   "outputs": [],
   "source": [
    "import faiss"
   ]
  },
  {
   "cell_type": "code",
   "execution_count": 4,
   "metadata": {},
   "outputs": [
    {
     "name": "stdout",
     "output_type": "stream",
     "text": [
      "11.8\n",
      "True\n"
     ]
    }
   ],
   "source": [
    "import torch\n",
    "print(torch.version.cuda)\n",
    "print(torch.cuda.is_available())"
   ]
  },
  {
   "cell_type": "code",
   "execution_count": 5,
   "metadata": {},
   "outputs": [],
   "source": [
    "# ✅ Set GPU or CPU for embeddings\n",
    "device = \"cuda\" if torch.cuda.is_available() else \"cpu\""
   ]
  },
  {
   "cell_type": "code",
   "execution_count": 6,
   "metadata": {},
   "outputs": [
    {
     "name": "stderr",
     "output_type": "stream",
     "text": [
      "c:\\Users\\harsh\\anaconda3\\envs\\faiss_env\\lib\\site-packages\\tqdm\\auto.py:21: TqdmWarning: IProgress not found. Please update jupyter and ipywidgets. See https://ipywidgets.readthedocs.io/en/stable/user_install.html\n",
      "  from .autonotebook import tqdm as notebook_tqdm\n"
     ]
    }
   ],
   "source": [
    "# ✅ Optimized HuggingFace Embedding Model (Using GPU)\n",
    "MODEL_NAME = \"sentence-transformers/all-MiniLM-L6-v2\"  # Faster model\n",
    "embeddings = HuggingFaceEmbeddings(model_name=MODEL_NAME)"
   ]
  },
  {
   "cell_type": "code",
   "execution_count": 7,
   "metadata": {},
   "outputs": [],
   "source": [
    "# ✅ Optimized Text Splitter (Larger Chunk Size)\n",
    "text_splitter = RecursiveCharacterTextSplitter(\n",
    "    chunk_size=2000,  # Reduce total embeddings\n",
    "    chunk_overlap=400\n",
    ")"
   ]
  },
  {
   "cell_type": "code",
   "execution_count": 8,
   "metadata": {},
   "outputs": [],
   "source": [
    "# ✅ Constants\n",
    "VECTOR_DB_PATH = \"../faiss_db\"\n",
    "CHUNK_SIZE = 10000  # JSON Loading Chunk Size\n",
    "EMBED_BATCH_SIZE = 1000  # Prevent OOM (Adjust if needed)\n",
    "SAVE_INTERVAL = 50000  # Save FAISS every 100K papers\n",
    "NUM_CORES = 4  # Adjust for your CPU cores\n",
    "MAX_PAPERS = 500000  # Limit to 2L (500K) papers\n"
   ]
  },
  {
   "cell_type": "code",
   "execution_count": 9,
   "metadata": {},
   "outputs": [],
   "source": [
    "# ✅ Load Research Papers Efficiently\n",
    "def load_papers(file_path, max_papers=MAX_PAPERS, chunk_size=CHUNK_SIZE):\n",
    "    papers = []\n",
    "    try:\n",
    "        for chunk in tqdm(pd.read_json(file_path, lines=True, chunksize=chunk_size), desc=\"Loading Papers\"):\n",
    "            cs_papers = chunk[chunk['categories'].str.contains('cs.')].to_dict(orient='records')\n",
    "            papers.extend(cs_papers)\n",
    "            if len(papers) >= max_papers:\n",
    "                break  # Stop at 500K papers\n",
    "    except Exception as e:\n",
    "        print(f\"Error loading papers: {e}\")\n",
    "    return papers[:max_papers]  # Ensure no more than 500K papers"
   ]
  },
  {
   "cell_type": "code",
   "execution_count": 10,
   "metadata": {},
   "outputs": [],
   "source": [
    "# ✅ Process Text into Chunks\n",
    "def process_text(paper):\n",
    "    text = f\"Title: {paper['title']}\\nAuthors: {', '.join(paper['authors'])}\\nAbstract: {paper['abstract']}\\n\"\n",
    "    return text_splitter.split_text(text)\n"
   ]
  },
  {
   "cell_type": "code",
   "execution_count": 11,
   "metadata": {},
   "outputs": [],
   "source": [
    "# ✅ Parallel Processing of Text Splitting\n",
    "def parallel_process_papers(papers):\n",
    "    documents = []\n",
    "    with Pool(NUM_CORES) as pool:\n",
    "        chunks = pool.map(process_text, papers)\n",
    "        for chunk in chunks:\n",
    "            documents.extend(chunk)\n",
    "    return documents\n"
   ]
  },
  {
   "cell_type": "code",
   "execution_count": 12,
   "metadata": {},
   "outputs": [],
   "source": [
    "# ✅ GPU-Accelerated Embeddings\n",
    "def embed_texts(texts):\n",
    "    return embeddings.embed_documents(texts)  # Runs on GPU"
   ]
  },
  {
   "cell_type": "code",
   "execution_count": 13,
   "metadata": {},
   "outputs": [],
   "source": [
    "# ✅ Save FAISS Vector Database\n",
    "def save_vector_db(documents, vectors):\n",
    "    index = faiss.IndexFlatL2(len(vectors[0]))  # L2 Distance Index\n",
    "    index.add(torch.tensor(vectors).numpy())  # Convert to numpy before adding\n",
    "\n",
    "    vector_store = FAISS(embedding_function=embeddings, index=index)\n",
    "    vector_store.save_local(VECTOR_DB_PATH)\n",
    "    print(f\"✔ Vector DB saved to {VECTOR_DB_PATH}\")"
   ]
  },
  {
   "cell_type": "code",
   "execution_count": 14,
   "metadata": {},
   "outputs": [],
   "source": [
    "# ✅ Create FAISS Vector Database\n",
    "def create_vector_db(papers):\n",
    "    print(\"Processing papers and creating vector database...\")\n",
    "    documents = parallel_process_papers(papers)\n",
    "\n",
    "    vectors = []\n",
    "    for i in tqdm(range(0, len(documents), EMBED_BATCH_SIZE), desc=\"Generating Embeddings\"):\n",
    "        batch = documents[i:i + EMBED_BATCH_SIZE]\n",
    "        vectors.extend(embed_texts(batch))\n",
    "        \n",
    "        if (i > 0 and i % SAVE_INTERVAL == 0) or (i + EMBED_BATCH_SIZE >= len(documents)):\n",
    "            save_vector_db(documents[:i + EMBED_BATCH_SIZE], vectors)\n",
    "            print(f\"✔ Saved FAISS Vector DB at {i + EMBED_BATCH_SIZE} documents\")\n",
    "    \n",
    "    return vectors\n"
   ]
  },
  {
   "cell_type": "code",
   "execution_count": null,
   "metadata": {},
   "outputs": [
    {
     "name": "stdout",
     "output_type": "stream",
     "text": [
      "Creating new vector database...\n"
     ]
    },
    {
     "name": "stderr",
     "output_type": "stream",
     "text": [
      "Loading Papers: 28it [00:11,  2.36it/s]\n"
     ]
    },
    {
     "name": "stdout",
     "output_type": "stream",
     "text": [
      "Processing papers and creating vector database...\n"
     ]
    }
   ],
   "source": [
    "# ✅ Main Execution\n",
    "if __name__ == \"__main__\":\n",
    "    file_path = \"../Dataset/arxiv-metadata-oai-snapshot.json\"\n",
    "\n",
    "    if not Path(VECTOR_DB_PATH).exists():\n",
    "        print(\"Creating new vector database...\")\n",
    "        papers = load_papers(file_path)\n",
    "        create_vector_db(papers)\n",
    "\n",
    "    vector_store = load_vector_db()"
   ]
  },
  {
   "cell_type": "code",
   "execution_count": 15,
   "metadata": {},
   "outputs": [],
   "source": [
    "# ✅ Load FAISS Vector Database\n",
    "def load_vector_db():\n",
    "    print(\"Loading FAISS vector database...\")\n",
    "    return FAISS.load_local(VECTOR_DB_PATH, embeddings, allow_dangerous_deserialization=True)"
   ]
  },
  {
   "cell_type": "code",
   "execution_count": 16,
   "metadata": {},
   "outputs": [
    {
     "name": "stdout",
     "output_type": "stream",
     "text": [
      "Loading FAISS vector database...\n"
     ]
    }
   ],
   "source": [
    "vector_store = load_vector_db()"
   ]
  },
  {
   "cell_type": "code",
   "execution_count": null,
   "metadata": {},
   "outputs": [],
   "source": []
  }
 ],
 "metadata": {
  "kernelspec": {
   "display_name": "faiss_env",
   "language": "python",
   "name": "python3"
  },
  "language_info": {
   "codemirror_mode": {
    "name": "ipython",
    "version": 3
   },
   "file_extension": ".py",
   "mimetype": "text/x-python",
   "name": "python",
   "nbconvert_exporter": "python",
   "pygments_lexer": "ipython3",
   "version": "3.10.16"
  }
 },
 "nbformat": 4,
 "nbformat_minor": 2
}
